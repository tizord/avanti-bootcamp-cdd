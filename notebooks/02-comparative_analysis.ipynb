{
 "cells": [
  {
   "cell_type": "code",
   "execution_count": 1,
   "metadata": {
    "tags": []
   },
   "outputs": [],
   "source": [
    "import pandas as pd\n",
    "import matplotlib.pyplot as plt\n",
    "import seaborn as sns\n"
   ]
  },
  {
   "cell_type": "code",
   "execution_count": 10,
   "metadata": {
    "tags": []
   },
   "outputs": [
    {
     "name": "stdout",
     "output_type": "stream",
     "text": [
      "<class 'pandas.core.frame.DataFrame'>\n",
      "RangeIndex: 15 entries, 0 to 14\n",
      "Data columns (total 5 columns):\n",
      " #   Column     Non-Null Count  Dtype \n",
      "---  ------     --------------  ----- \n",
      " 0   Variável   15 non-null     object\n",
      " 1   Descrição  15 non-null     object\n",
      " 2   Tipo       15 non-null     object\n",
      " 3   Subtipo    15 non-null     object\n",
      " 4   Valores    12 non-null     object\n",
      "dtypes: object(5)\n",
      "memory usage: 728.0+ bytes\n"
     ]
    }
   ],
   "source": [
    "df = pd.read_csv('../data/raw/data_titanic.csv')\n",
    "df_dict = pd.read_csv('../data/external/dictionary.csv')\n",
    "df_dict.info()"
   ]
  },
  {
   "cell_type": "code",
   "execution_count": 8,
   "metadata": {},
   "outputs": [
    {
     "data": {
      "text/plain": [
       "array(['Qualitativa', 'Quantitativa'], dtype=object)"
      ]
     },
     "execution_count": 8,
     "metadata": {},
     "output_type": "execute_result"
    }
   ],
   "source": [
    "tipos = data['Tipo'].unique()\n",
    "tipos"
   ]
  },
  {
   "cell_type": "code",
   "execution_count": 32,
   "metadata": {},
   "outputs": [],
   "source": [
    "target_variable = 'survived'\n",
    "useless_variables =  (\n",
    "    df_dict\n",
    "    .query(\"Tipo == 'Inútil'\")\n",
    "    .Variável\n",
    "    .to_list()\n",
    ")\n",
    "\n",
    "nominal_variables = (\n",
    "    df_dict\n",
    "    .query(\"Subtipo == 'Nominal' and Tipo != 'Inútil' and Variável != @target_variable\")\n",
    "    .Variável\n",
    "    .to_list()\n",
    ")\n",
    "\n",
    "ordinal_variables = (\n",
    "    df_dict\n",
    "    .query(\"Subtipo == 'Ordinal' and Tipo != 'Inútil' and Variável != @target_variable\")\n",
    "    .Variável\n",
    "    .to_list()\n",
    ")\n",
    "\n",
    "continuous_variables = (\n",
    "    df_dict\n",
    "    .query(\"Subtipo == 'Contínua' and Tipo != 'Inútil' and Variável != @target_variable\")\n",
    "    .Variável\n",
    "    .to_list()\n",
    ")\n",
    "\n",
    "discrete_variables = (\n",
    "    df_dict\n",
    "    .query(\"Subtipo == 'Discreta' and Tipo != 'Inútil' and Variável != @target_variable\")\n",
    "    .Variável\n",
    "    .to_list()\n",
    ")\n"
   ]
  },
  {
   "cell_type": "code",
   "execution_count": 33,
   "metadata": {},
   "outputs": [
    {
     "name": "stdout",
     "output_type": "stream",
     "text": [
      "Useless: ['embarked', 'class', 'alive']\n",
      "Nominal: ['sex', 'who', 'deck', 'embark_town']\n",
      "Ordinal: ['pclass']\n",
      "Continuous ['age', 'fare']\n",
      "Discrete: ['sibsp', 'parch']\n"
     ]
    }
   ],
   "source": [
    "print(f'Useless: {useless_variables}')\n",
    "print(f'Nominal: {nominal_variables}')\n",
    "print(f'Ordinal: {ordinal_variables}')\n",
    "print(f'Continuous {continuous_variables}')\n",
    "print(f'Discrete: {discrete_variables}')"
   ]
  },
  {
   "cell_type": "code",
   "execution_count": 35,
   "metadata": {},
   "outputs": [],
   "source": [
    "X = df.drop(columns=[target_variable] + useless_variables)\n",
    "y = df[target_variable]"
   ]
  },
  {
   "cell_type": "markdown",
   "metadata": {},
   "source": [
    "## 07"
   ]
  },
  {
   "cell_type": "markdown",
   "metadata": {},
   "source": [
    "### Tratamento de dados discrepantes\n",
    "\n",
    "Remover ou isolar outliers dependendo do contexto."
   ]
  },
  {
   "cell_type": "markdown",
   "metadata": {},
   "source": [
    "### Tratamento de dados faltantes\n",
    "\n",
    "Identificar e remover linhas/colunas com dados faltantes insignificantes. Imputar valores ausnetes usando estatísticas de tendência central ou modelos preditivos."
   ]
  },
  {
   "cell_type": "markdown",
   "metadata": {},
   "source": [
    "## 08"
   ]
  },
  {
   "cell_type": "markdown",
   "metadata": {},
   "source": [
    "### Codificação de variáveis\n",
    "\n",
    "Efeturar toda e qualquer transformação necessãria para o funcionamento do modelo, seja ela codificação de variáveis qualitativas (nominais ou ordinais), temporais ou textuais."
   ]
  }
 ],
 "metadata": {
  "kernelspec": {
   "display_name": "Python 3 (ipykernel)",
   "language": "python",
   "name": "python3"
  },
  "language_info": {
   "codemirror_mode": {
    "name": "ipython",
    "version": 3
   },
   "file_extension": ".py",
   "mimetype": "text/x-python",
   "name": "python",
   "nbconvert_exporter": "python",
   "pygments_lexer": "ipython3",
   "version": "3.10.12"
  }
 },
 "nbformat": 4,
 "nbformat_minor": 4
}
