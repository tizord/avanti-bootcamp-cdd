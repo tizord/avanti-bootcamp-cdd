{
 "cells": [
  {
   "cell_type": "code",
   "execution_count": 32,
   "metadata": {
    "tags": []
   },
   "outputs": [],
   "source": [
    "import pandas as pd\n",
    "import numpy as np\n",
    "import matplotlib.pyplot as plt\n",
    "import seaborn as sns\n",
    "\n",
    "# Pre-processamento\n",
    "from sklearn.impute import SimpleImputer, KNNImputer\n",
    "from sklearn.pipeline import Pipeline\n",
    "from sklearn.preprocessing import OneHotEncoder, OrdinalEncoder, StandardScaler\n",
    "from sklearn.compose import ColumnTransformer"
   ]
  },
  {
   "cell_type": "code",
   "execution_count": 33,
   "metadata": {
    "tags": []
   },
   "outputs": [
    {
     "name": "stdout",
     "output_type": "stream",
     "text": [
      "<class 'pandas.core.frame.DataFrame'>\n",
      "RangeIndex: 15 entries, 0 to 14\n",
      "Data columns (total 5 columns):\n",
      " #   Column     Non-Null Count  Dtype \n",
      "---  ------     --------------  ----- \n",
      " 0   Variável   15 non-null     object\n",
      " 1   Descrição  15 non-null     object\n",
      " 2   Tipo       15 non-null     object\n",
      " 3   Subtipo    15 non-null     object\n",
      " 4   Valores    12 non-null     object\n",
      "dtypes: object(5)\n",
      "memory usage: 728.0+ bytes\n"
     ]
    }
   ],
   "source": [
    "df = pd.read_csv('../data/raw/data_titanic.csv')\n",
    "df_dict = pd.read_csv('../data/external/dictionary.csv')\n",
    "df_dict.info()"
   ]
  },
  {
   "cell_type": "code",
   "execution_count": 34,
   "metadata": {},
   "outputs": [
    {
     "data": {
      "text/plain": [
       "array(['Qualitativa', 'Quantitativa', 'Inútil'], dtype=object)"
      ]
     },
     "execution_count": 34,
     "metadata": {},
     "output_type": "execute_result"
    }
   ],
   "source": [
    "tipos = df_dict['Tipo'].unique()\n",
    "tipos"
   ]
  },
  {
   "cell_type": "code",
   "execution_count": 35,
   "metadata": {},
   "outputs": [],
   "source": [
    "target_variable = 'survived'\n",
    "\n",
    "useless_variables =  (\n",
    "    df_dict\n",
    "    .query(\"Tipo == 'Inútil'\")\n",
    "    .Variável\n",
    "    .to_list()\n",
    ")\n",
    "\n",
    "nominal_variables = (\n",
    "    df_dict\n",
    "    .query(\"Subtipo == 'Nominal' and Tipo != 'Inútil' and Variável != @target_variable\")\n",
    "    .Variável\n",
    "    .to_list()\n",
    ")\n",
    "\n",
    "ordinal_variables = (\n",
    "    df_dict\n",
    "    .query(\"Subtipo == 'Ordinal' and Tipo != 'Inútil' and Variável != @target_variable\")\n",
    "    .Variável\n",
    "    .to_list()\n",
    ")\n",
    "\n",
    "continuous_variables = (\n",
    "    df_dict\n",
    "    .query(\"Subtipo == 'Contínua' and Tipo != 'Inútil' and Variável != @target_variable\")\n",
    "    .Variável\n",
    "    .to_list()\n",
    ")\n",
    "\n",
    "discrete_variables = (\n",
    "    df_dict\n",
    "    .query(\"Subtipo == 'Discreta' and Tipo != 'Inútil' and Variável != @target_variable\")\n",
    "    .Variável\n",
    "    .to_list()\n",
    ")\n"
   ]
  },
  {
   "cell_type": "code",
   "execution_count": 36,
   "metadata": {},
   "outputs": [
    {
     "name": "stdout",
     "output_type": "stream",
     "text": [
      "Useless: ['embarked', 'class', 'alive']\n",
      "Nominal: ['sex', 'who', 'adult_male', 'deck', 'embark_town', 'alone']\n",
      "Ordinal: ['pclass']\n",
      "Continuous ['age', 'fare']\n",
      "Discrete: ['sibsp', 'parch']\n"
     ]
    }
   ],
   "source": [
    "print(f'Useless: {useless_variables}')\n",
    "print(f'Nominal: {nominal_variables}')\n",
    "print(f'Ordinal: {ordinal_variables}')\n",
    "print(f'Continuous {continuous_variables}')\n",
    "print(f'Discrete: {discrete_variables}')"
   ]
  },
  {
   "cell_type": "code",
   "execution_count": 37,
   "metadata": {
    "tags": []
   },
   "outputs": [
    {
     "data": {
      "text/plain": [
       "{'alive', 'class', 'embarked', 'survived'}"
      ]
     },
     "execution_count": 37,
     "metadata": {},
     "output_type": "execute_result"
    }
   ],
   "source": [
    "set(df.columns) - set(nominal_variables+ordinal_variables+discrete_variables+continuous_variables)"
   ]
  },
  {
   "cell_type": "markdown",
   "metadata": {},
   "source": [
    "### Pré-processamento"
   ]
  },
  {
   "cell_type": "markdown",
   "metadata": {},
   "source": [
    "Vamos usar o **SimpleImputer** do Scikit Learn para inserir valores faltantes para os dados do tipo **nominal, ordinal, contínuo**. Para os dados discretos, iremos usar o **KNNImputer**. Por isso, será necessário criar uma estratégia para cada tipo de dado faltante."
   ]
  },
  {
   "cell_type": "code",
   "execution_count": 38,
   "metadata": {
    "tags": []
   },
   "outputs": [],
   "source": [
    "# Tratamento para dados faltantes.\n",
    "\n",
    "nominal_imputer = SimpleImputer(missing_values=np.nan, strategy='most_frequent')\n",
    "ordinal_imputer = SimpleImputer(missing_values=np.nan, strategy='median')\n",
    "continuous_imputer = SimpleImputer(missing_values=np.nan, strategy='mean')\n",
    "discrete_imputer = KNNImputer(missing_values=np.nan)"
   ]
  },
  {
   "cell_type": "markdown",
   "metadata": {},
   "source": [
    "Agora, serão criados os Pipelines.  \n",
    "Nesse momento, iremos unir o tratamento para dados faltantes com a codificação/normalização das variáveis."
   ]
  },
  {
   "cell_type": "code",
   "execution_count": 39,
   "metadata": {
    "tags": []
   },
   "outputs": [],
   "source": [
    "nominal_preprocessor = Pipeline(steps=[\n",
    "    (\"missing\", nominal_imputer),  # Tratamento de dados faltantes\n",
    "    (\"encoding\", OneHotEncoder(sparse_output=False)),  # Codificação de variáveis\n",
    "])\n",
    "\n",
    "ordinal_preprocessor = Pipeline(steps=[\n",
    "    (\"missing\", ordinal_imputer),\n",
    "    (\"encoding\", OrdinalEncoder()),\n",
    "])\n",
    "\n",
    "continuous_preprocessor = Pipeline(steps=[\n",
    "    (\"missing\", continuous_imputer),\n",
    "    (\"normalization\", StandardScaler()),\n",
    "])\n",
    "\n",
    "discrete_preprocessor = Pipeline(steps=[\n",
    "    (\"missing\", discrete_imputer),\n",
    "    (\"normalization\", StandardScaler()),\n",
    "])"
   ]
  },
  {
   "cell_type": "code",
   "execution_count": 40,
   "metadata": {
    "tags": []
   },
   "outputs": [],
   "source": [
    "preprocessor = ColumnTransformer([\n",
    "    (\"nominal\", nominal_preprocessor, nominal_variables),\n",
    "    (\"ordinal\", ordinal_preprocessor, ordinal_variables),\n",
    "    (\"continuous\", continuous_preprocessor, continuous_variables),\n",
    "    (\"discrete\", discrete_preprocessor, discrete_variables),\n",
    "    \n",
    "])"
   ]
  },
  {
   "cell_type": "code",
   "execution_count": 41,
   "metadata": {
    "tags": []
   },
   "outputs": [
    {
     "data": {
      "text/html": [
       "<style>#sk-container-id-5 {color: black;}#sk-container-id-5 pre{padding: 0;}#sk-container-id-5 div.sk-toggleable {background-color: white;}#sk-container-id-5 label.sk-toggleable__label {cursor: pointer;display: block;width: 100%;margin-bottom: 0;padding: 0.3em;box-sizing: border-box;text-align: center;}#sk-container-id-5 label.sk-toggleable__label-arrow:before {content: \"▸\";float: left;margin-right: 0.25em;color: #696969;}#sk-container-id-5 label.sk-toggleable__label-arrow:hover:before {color: black;}#sk-container-id-5 div.sk-estimator:hover label.sk-toggleable__label-arrow:before {color: black;}#sk-container-id-5 div.sk-toggleable__content {max-height: 0;max-width: 0;overflow: hidden;text-align: left;background-color: #f0f8ff;}#sk-container-id-5 div.sk-toggleable__content pre {margin: 0.2em;color: black;border-radius: 0.25em;background-color: #f0f8ff;}#sk-container-id-5 input.sk-toggleable__control:checked~div.sk-toggleable__content {max-height: 200px;max-width: 100%;overflow: auto;}#sk-container-id-5 input.sk-toggleable__control:checked~label.sk-toggleable__label-arrow:before {content: \"▾\";}#sk-container-id-5 div.sk-estimator input.sk-toggleable__control:checked~label.sk-toggleable__label {background-color: #d4ebff;}#sk-container-id-5 div.sk-label input.sk-toggleable__control:checked~label.sk-toggleable__label {background-color: #d4ebff;}#sk-container-id-5 input.sk-hidden--visually {border: 0;clip: rect(1px 1px 1px 1px);clip: rect(1px, 1px, 1px, 1px);height: 1px;margin: -1px;overflow: hidden;padding: 0;position: absolute;width: 1px;}#sk-container-id-5 div.sk-estimator {font-family: monospace;background-color: #f0f8ff;border: 1px dotted black;border-radius: 0.25em;box-sizing: border-box;margin-bottom: 0.5em;}#sk-container-id-5 div.sk-estimator:hover {background-color: #d4ebff;}#sk-container-id-5 div.sk-parallel-item::after {content: \"\";width: 100%;border-bottom: 1px solid gray;flex-grow: 1;}#sk-container-id-5 div.sk-label:hover label.sk-toggleable__label {background-color: #d4ebff;}#sk-container-id-5 div.sk-serial::before {content: \"\";position: absolute;border-left: 1px solid gray;box-sizing: border-box;top: 0;bottom: 0;left: 50%;z-index: 0;}#sk-container-id-5 div.sk-serial {display: flex;flex-direction: column;align-items: center;background-color: white;padding-right: 0.2em;padding-left: 0.2em;position: relative;}#sk-container-id-5 div.sk-item {position: relative;z-index: 1;}#sk-container-id-5 div.sk-parallel {display: flex;align-items: stretch;justify-content: center;background-color: white;position: relative;}#sk-container-id-5 div.sk-item::before, #sk-container-id-5 div.sk-parallel-item::before {content: \"\";position: absolute;border-left: 1px solid gray;box-sizing: border-box;top: 0;bottom: 0;left: 50%;z-index: -1;}#sk-container-id-5 div.sk-parallel-item {display: flex;flex-direction: column;z-index: 1;position: relative;background-color: white;}#sk-container-id-5 div.sk-parallel-item:first-child::after {align-self: flex-end;width: 50%;}#sk-container-id-5 div.sk-parallel-item:last-child::after {align-self: flex-start;width: 50%;}#sk-container-id-5 div.sk-parallel-item:only-child::after {width: 0;}#sk-container-id-5 div.sk-dashed-wrapped {border: 1px dashed gray;margin: 0 0.4em 0.5em 0.4em;box-sizing: border-box;padding-bottom: 0.4em;background-color: white;}#sk-container-id-5 div.sk-label label {font-family: monospace;font-weight: bold;display: inline-block;line-height: 1.2em;}#sk-container-id-5 div.sk-label-container {text-align: center;}#sk-container-id-5 div.sk-container {/* jupyter's `normalize.less` sets `[hidden] { display: none; }` but bootstrap.min.css set `[hidden] { display: none !important; }` so we also need the `!important` here to be able to override the default hidden behavior on the sphinx rendered scikit-learn.org. See: https://github.com/scikit-learn/scikit-learn/issues/21755 */display: inline-block !important;position: relative;}#sk-container-id-5 div.sk-text-repr-fallback {display: none;}</style><div id=\"sk-container-id-5\" class=\"sk-top-container\"><div class=\"sk-text-repr-fallback\"><pre>ColumnTransformer(transformers=[(&#x27;nominal&#x27;,\n",
       "                                 Pipeline(steps=[(&#x27;missing&#x27;,\n",
       "                                                  SimpleImputer(strategy=&#x27;most_frequent&#x27;)),\n",
       "                                                 (&#x27;encoding&#x27;,\n",
       "                                                  OneHotEncoder(sparse_output=False))]),\n",
       "                                 [&#x27;sex&#x27;, &#x27;who&#x27;, &#x27;adult_male&#x27;, &#x27;deck&#x27;,\n",
       "                                  &#x27;embark_town&#x27;, &#x27;alone&#x27;]),\n",
       "                                (&#x27;ordinal&#x27;,\n",
       "                                 Pipeline(steps=[(&#x27;missing&#x27;,\n",
       "                                                  SimpleImputer(strategy=&#x27;median&#x27;)),\n",
       "                                                 (&#x27;encoding&#x27;,\n",
       "                                                  OrdinalEncoder())]),\n",
       "                                 [&#x27;pclass&#x27;]),\n",
       "                                (&#x27;continuous&#x27;,\n",
       "                                 Pipeline(steps=[(&#x27;missing&#x27;, SimpleImputer()),\n",
       "                                                 (&#x27;normalization&#x27;,\n",
       "                                                  StandardScaler())]),\n",
       "                                 [&#x27;age&#x27;, &#x27;fare&#x27;]),\n",
       "                                (&#x27;discrete&#x27;,\n",
       "                                 Pipeline(steps=[(&#x27;missing&#x27;, KNNImputer()),\n",
       "                                                 (&#x27;normalization&#x27;,\n",
       "                                                  StandardScaler())]),\n",
       "                                 [&#x27;sibsp&#x27;, &#x27;parch&#x27;])])</pre><b>In a Jupyter environment, please rerun this cell to show the HTML representation or trust the notebook. <br />On GitHub, the HTML representation is unable to render, please try loading this page with nbviewer.org.</b></div><div class=\"sk-container\" hidden><div class=\"sk-item sk-dashed-wrapped\"><div class=\"sk-label-container\"><div class=\"sk-label sk-toggleable\"><input class=\"sk-toggleable__control sk-hidden--visually\" id=\"sk-estimator-id-29\" type=\"checkbox\" ><label for=\"sk-estimator-id-29\" class=\"sk-toggleable__label sk-toggleable__label-arrow\">ColumnTransformer</label><div class=\"sk-toggleable__content\"><pre>ColumnTransformer(transformers=[(&#x27;nominal&#x27;,\n",
       "                                 Pipeline(steps=[(&#x27;missing&#x27;,\n",
       "                                                  SimpleImputer(strategy=&#x27;most_frequent&#x27;)),\n",
       "                                                 (&#x27;encoding&#x27;,\n",
       "                                                  OneHotEncoder(sparse_output=False))]),\n",
       "                                 [&#x27;sex&#x27;, &#x27;who&#x27;, &#x27;adult_male&#x27;, &#x27;deck&#x27;,\n",
       "                                  &#x27;embark_town&#x27;, &#x27;alone&#x27;]),\n",
       "                                (&#x27;ordinal&#x27;,\n",
       "                                 Pipeline(steps=[(&#x27;missing&#x27;,\n",
       "                                                  SimpleImputer(strategy=&#x27;median&#x27;)),\n",
       "                                                 (&#x27;encoding&#x27;,\n",
       "                                                  OrdinalEncoder())]),\n",
       "                                 [&#x27;pclass&#x27;]),\n",
       "                                (&#x27;continuous&#x27;,\n",
       "                                 Pipeline(steps=[(&#x27;missing&#x27;, SimpleImputer()),\n",
       "                                                 (&#x27;normalization&#x27;,\n",
       "                                                  StandardScaler())]),\n",
       "                                 [&#x27;age&#x27;, &#x27;fare&#x27;]),\n",
       "                                (&#x27;discrete&#x27;,\n",
       "                                 Pipeline(steps=[(&#x27;missing&#x27;, KNNImputer()),\n",
       "                                                 (&#x27;normalization&#x27;,\n",
       "                                                  StandardScaler())]),\n",
       "                                 [&#x27;sibsp&#x27;, &#x27;parch&#x27;])])</pre></div></div></div><div class=\"sk-parallel\"><div class=\"sk-parallel-item\"><div class=\"sk-item\"><div class=\"sk-label-container\"><div class=\"sk-label sk-toggleable\"><input class=\"sk-toggleable__control sk-hidden--visually\" id=\"sk-estimator-id-30\" type=\"checkbox\" ><label for=\"sk-estimator-id-30\" class=\"sk-toggleable__label sk-toggleable__label-arrow\">nominal</label><div class=\"sk-toggleable__content\"><pre>[&#x27;sex&#x27;, &#x27;who&#x27;, &#x27;adult_male&#x27;, &#x27;deck&#x27;, &#x27;embark_town&#x27;, &#x27;alone&#x27;]</pre></div></div></div><div class=\"sk-serial\"><div class=\"sk-item\"><div class=\"sk-serial\"><div class=\"sk-item\"><div class=\"sk-estimator sk-toggleable\"><input class=\"sk-toggleable__control sk-hidden--visually\" id=\"sk-estimator-id-31\" type=\"checkbox\" ><label for=\"sk-estimator-id-31\" class=\"sk-toggleable__label sk-toggleable__label-arrow\">SimpleImputer</label><div class=\"sk-toggleable__content\"><pre>SimpleImputer(strategy=&#x27;most_frequent&#x27;)</pre></div></div></div><div class=\"sk-item\"><div class=\"sk-estimator sk-toggleable\"><input class=\"sk-toggleable__control sk-hidden--visually\" id=\"sk-estimator-id-32\" type=\"checkbox\" ><label for=\"sk-estimator-id-32\" class=\"sk-toggleable__label sk-toggleable__label-arrow\">OneHotEncoder</label><div class=\"sk-toggleable__content\"><pre>OneHotEncoder(sparse_output=False)</pre></div></div></div></div></div></div></div></div><div class=\"sk-parallel-item\"><div class=\"sk-item\"><div class=\"sk-label-container\"><div class=\"sk-label sk-toggleable\"><input class=\"sk-toggleable__control sk-hidden--visually\" id=\"sk-estimator-id-33\" type=\"checkbox\" ><label for=\"sk-estimator-id-33\" class=\"sk-toggleable__label sk-toggleable__label-arrow\">ordinal</label><div class=\"sk-toggleable__content\"><pre>[&#x27;pclass&#x27;]</pre></div></div></div><div class=\"sk-serial\"><div class=\"sk-item\"><div class=\"sk-serial\"><div class=\"sk-item\"><div class=\"sk-estimator sk-toggleable\"><input class=\"sk-toggleable__control sk-hidden--visually\" id=\"sk-estimator-id-34\" type=\"checkbox\" ><label for=\"sk-estimator-id-34\" class=\"sk-toggleable__label sk-toggleable__label-arrow\">SimpleImputer</label><div class=\"sk-toggleable__content\"><pre>SimpleImputer(strategy=&#x27;median&#x27;)</pre></div></div></div><div class=\"sk-item\"><div class=\"sk-estimator sk-toggleable\"><input class=\"sk-toggleable__control sk-hidden--visually\" id=\"sk-estimator-id-35\" type=\"checkbox\" ><label for=\"sk-estimator-id-35\" class=\"sk-toggleable__label sk-toggleable__label-arrow\">OrdinalEncoder</label><div class=\"sk-toggleable__content\"><pre>OrdinalEncoder()</pre></div></div></div></div></div></div></div></div><div class=\"sk-parallel-item\"><div class=\"sk-item\"><div class=\"sk-label-container\"><div class=\"sk-label sk-toggleable\"><input class=\"sk-toggleable__control sk-hidden--visually\" id=\"sk-estimator-id-36\" type=\"checkbox\" ><label for=\"sk-estimator-id-36\" class=\"sk-toggleable__label sk-toggleable__label-arrow\">continuous</label><div class=\"sk-toggleable__content\"><pre>[&#x27;age&#x27;, &#x27;fare&#x27;]</pre></div></div></div><div class=\"sk-serial\"><div class=\"sk-item\"><div class=\"sk-serial\"><div class=\"sk-item\"><div class=\"sk-estimator sk-toggleable\"><input class=\"sk-toggleable__control sk-hidden--visually\" id=\"sk-estimator-id-37\" type=\"checkbox\" ><label for=\"sk-estimator-id-37\" class=\"sk-toggleable__label sk-toggleable__label-arrow\">SimpleImputer</label><div class=\"sk-toggleable__content\"><pre>SimpleImputer()</pre></div></div></div><div class=\"sk-item\"><div class=\"sk-estimator sk-toggleable\"><input class=\"sk-toggleable__control sk-hidden--visually\" id=\"sk-estimator-id-38\" type=\"checkbox\" ><label for=\"sk-estimator-id-38\" class=\"sk-toggleable__label sk-toggleable__label-arrow\">StandardScaler</label><div class=\"sk-toggleable__content\"><pre>StandardScaler()</pre></div></div></div></div></div></div></div></div><div class=\"sk-parallel-item\"><div class=\"sk-item\"><div class=\"sk-label-container\"><div class=\"sk-label sk-toggleable\"><input class=\"sk-toggleable__control sk-hidden--visually\" id=\"sk-estimator-id-39\" type=\"checkbox\" ><label for=\"sk-estimator-id-39\" class=\"sk-toggleable__label sk-toggleable__label-arrow\">discrete</label><div class=\"sk-toggleable__content\"><pre>[&#x27;sibsp&#x27;, &#x27;parch&#x27;]</pre></div></div></div><div class=\"sk-serial\"><div class=\"sk-item\"><div class=\"sk-serial\"><div class=\"sk-item\"><div class=\"sk-estimator sk-toggleable\"><input class=\"sk-toggleable__control sk-hidden--visually\" id=\"sk-estimator-id-40\" type=\"checkbox\" ><label for=\"sk-estimator-id-40\" class=\"sk-toggleable__label sk-toggleable__label-arrow\">KNNImputer</label><div class=\"sk-toggleable__content\"><pre>KNNImputer()</pre></div></div></div><div class=\"sk-item\"><div class=\"sk-estimator sk-toggleable\"><input class=\"sk-toggleable__control sk-hidden--visually\" id=\"sk-estimator-id-41\" type=\"checkbox\" ><label for=\"sk-estimator-id-41\" class=\"sk-toggleable__label sk-toggleable__label-arrow\">StandardScaler</label><div class=\"sk-toggleable__content\"><pre>StandardScaler()</pre></div></div></div></div></div></div></div></div></div></div></div></div>"
      ],
      "text/plain": [
       "ColumnTransformer(transformers=[('nominal',\n",
       "                                 Pipeline(steps=[('missing',\n",
       "                                                  SimpleImputer(strategy='most_frequent')),\n",
       "                                                 ('encoding',\n",
       "                                                  OneHotEncoder(sparse_output=False))]),\n",
       "                                 ['sex', 'who', 'adult_male', 'deck',\n",
       "                                  'embark_town', 'alone']),\n",
       "                                ('ordinal',\n",
       "                                 Pipeline(steps=[('missing',\n",
       "                                                  SimpleImputer(strategy='median')),\n",
       "                                                 ('encoding',\n",
       "                                                  OrdinalEncoder())]),\n",
       "                                 ['pclass']),\n",
       "                                ('continuous',\n",
       "                                 Pipeline(steps=[('missing', SimpleImputer()),\n",
       "                                                 ('normalization',\n",
       "                                                  StandardScaler())]),\n",
       "                                 ['age', 'fare']),\n",
       "                                ('discrete',\n",
       "                                 Pipeline(steps=[('missing', KNNImputer()),\n",
       "                                                 ('normalization',\n",
       "                                                  StandardScaler())]),\n",
       "                                 ['sibsp', 'parch'])])"
      ]
     },
     "execution_count": 41,
     "metadata": {},
     "output_type": "execute_result"
    }
   ],
   "source": [
    "preprocessor"
   ]
  },
  {
   "cell_type": "code",
   "execution_count": 42,
   "metadata": {},
   "outputs": [],
   "source": [
    "X = df.drop(columns=[target_variable] + useless_variables)\n",
    "y = df[target_variable]"
   ]
  },
  {
   "cell_type": "code",
   "execution_count": 43,
   "metadata": {
    "tags": []
   },
   "outputs": [],
   "source": [
    "preprocessor.fit(X)\n",
    "X_transformed = preprocessor.transform(X)"
   ]
  },
  {
   "cell_type": "code",
   "execution_count": 28,
   "metadata": {
    "tags": []
   },
   "outputs": [
    {
     "data": {
      "text/html": [
       "<style>#sk-container-id-4 {color: black;}#sk-container-id-4 pre{padding: 0;}#sk-container-id-4 div.sk-toggleable {background-color: white;}#sk-container-id-4 label.sk-toggleable__label {cursor: pointer;display: block;width: 100%;margin-bottom: 0;padding: 0.3em;box-sizing: border-box;text-align: center;}#sk-container-id-4 label.sk-toggleable__label-arrow:before {content: \"▸\";float: left;margin-right: 0.25em;color: #696969;}#sk-container-id-4 label.sk-toggleable__label-arrow:hover:before {color: black;}#sk-container-id-4 div.sk-estimator:hover label.sk-toggleable__label-arrow:before {color: black;}#sk-container-id-4 div.sk-toggleable__content {max-height: 0;max-width: 0;overflow: hidden;text-align: left;background-color: #f0f8ff;}#sk-container-id-4 div.sk-toggleable__content pre {margin: 0.2em;color: black;border-radius: 0.25em;background-color: #f0f8ff;}#sk-container-id-4 input.sk-toggleable__control:checked~div.sk-toggleable__content {max-height: 200px;max-width: 100%;overflow: auto;}#sk-container-id-4 input.sk-toggleable__control:checked~label.sk-toggleable__label-arrow:before {content: \"▾\";}#sk-container-id-4 div.sk-estimator input.sk-toggleable__control:checked~label.sk-toggleable__label {background-color: #d4ebff;}#sk-container-id-4 div.sk-label input.sk-toggleable__control:checked~label.sk-toggleable__label {background-color: #d4ebff;}#sk-container-id-4 input.sk-hidden--visually {border: 0;clip: rect(1px 1px 1px 1px);clip: rect(1px, 1px, 1px, 1px);height: 1px;margin: -1px;overflow: hidden;padding: 0;position: absolute;width: 1px;}#sk-container-id-4 div.sk-estimator {font-family: monospace;background-color: #f0f8ff;border: 1px dotted black;border-radius: 0.25em;box-sizing: border-box;margin-bottom: 0.5em;}#sk-container-id-4 div.sk-estimator:hover {background-color: #d4ebff;}#sk-container-id-4 div.sk-parallel-item::after {content: \"\";width: 100%;border-bottom: 1px solid gray;flex-grow: 1;}#sk-container-id-4 div.sk-label:hover label.sk-toggleable__label {background-color: #d4ebff;}#sk-container-id-4 div.sk-serial::before {content: \"\";position: absolute;border-left: 1px solid gray;box-sizing: border-box;top: 0;bottom: 0;left: 50%;z-index: 0;}#sk-container-id-4 div.sk-serial {display: flex;flex-direction: column;align-items: center;background-color: white;padding-right: 0.2em;padding-left: 0.2em;position: relative;}#sk-container-id-4 div.sk-item {position: relative;z-index: 1;}#sk-container-id-4 div.sk-parallel {display: flex;align-items: stretch;justify-content: center;background-color: white;position: relative;}#sk-container-id-4 div.sk-item::before, #sk-container-id-4 div.sk-parallel-item::before {content: \"\";position: absolute;border-left: 1px solid gray;box-sizing: border-box;top: 0;bottom: 0;left: 50%;z-index: -1;}#sk-container-id-4 div.sk-parallel-item {display: flex;flex-direction: column;z-index: 1;position: relative;background-color: white;}#sk-container-id-4 div.sk-parallel-item:first-child::after {align-self: flex-end;width: 50%;}#sk-container-id-4 div.sk-parallel-item:last-child::after {align-self: flex-start;width: 50%;}#sk-container-id-4 div.sk-parallel-item:only-child::after {width: 0;}#sk-container-id-4 div.sk-dashed-wrapped {border: 1px dashed gray;margin: 0 0.4em 0.5em 0.4em;box-sizing: border-box;padding-bottom: 0.4em;background-color: white;}#sk-container-id-4 div.sk-label label {font-family: monospace;font-weight: bold;display: inline-block;line-height: 1.2em;}#sk-container-id-4 div.sk-label-container {text-align: center;}#sk-container-id-4 div.sk-container {/* jupyter's `normalize.less` sets `[hidden] { display: none; }` but bootstrap.min.css set `[hidden] { display: none !important; }` so we also need the `!important` here to be able to override the default hidden behavior on the sphinx rendered scikit-learn.org. See: https://github.com/scikit-learn/scikit-learn/issues/21755 */display: inline-block !important;position: relative;}#sk-container-id-4 div.sk-text-repr-fallback {display: none;}</style><div id=\"sk-container-id-4\" class=\"sk-top-container\"><div class=\"sk-text-repr-fallback\"><pre>LinearRegression()</pre><b>In a Jupyter environment, please rerun this cell to show the HTML representation or trust the notebook. <br />On GitHub, the HTML representation is unable to render, please try loading this page with nbviewer.org.</b></div><div class=\"sk-container\" hidden><div class=\"sk-item\"><div class=\"sk-estimator sk-toggleable\"><input class=\"sk-toggleable__control sk-hidden--visually\" id=\"sk-estimator-id-28\" type=\"checkbox\" checked><label for=\"sk-estimator-id-28\" class=\"sk-toggleable__label sk-toggleable__label-arrow\">LinearRegression</label><div class=\"sk-toggleable__content\"><pre>LinearRegression()</pre></div></div></div></div></div>"
      ],
      "text/plain": [
       "LinearRegression()"
      ]
     },
     "execution_count": 28,
     "metadata": {},
     "output_type": "execute_result"
    }
   ],
   "source": [
    "X_"
   ]
  },
  {
   "cell_type": "code",
   "execution_count": 29,
   "metadata": {
    "tags": []
   },
   "outputs": [],
   "source": [
    "y_hat = model.predict(X_transformed)"
   ]
  },
  {
   "cell_type": "code",
   "execution_count": 30,
   "metadata": {
    "tags": []
   },
   "outputs": [
    {
     "data": {
      "text/plain": [
       "array([ 0.15625  ,  0.8984375,  0.5546875,  0.8515625,  0.0546875,\n",
       "        0.1171875,  0.4609375,  0.4296875,  0.59375  ,  0.890625 ,\n",
       "        0.5390625,  0.6953125,  0.1015625, -0.1484375,  0.6328125,\n",
       "        0.5859375,  0.40625  ,  0.1953125,  0.609375 ,  0.5859375,\n",
       "        0.1796875,  0.3359375,  0.6796875,  0.4296875,  0.5234375,\n",
       "        0.328125 ,  0.1171875,  0.2734375,  0.5859375,  0.0703125,\n",
       "        0.328125 ,  1.0390625,  0.5859375,  0.0703125,  0.46875  ,\n",
       "        0.359375 ,  0.1171875,  0.1015625,  0.5703125,  0.7578125,\n",
       "        0.5703125,  0.7421875,  0.1171875,  0.8203125,  0.6171875,\n",
       "        0.0703125,  0.1875   ,  0.5859375,  0.109375 ,  0.6484375,\n",
       "        0.3359375,  0.1015625,  1.0234375,  0.7421875,  0.4296875,\n",
       "        0.3203125,  0.6953125,  0.1171875,  0.7578125,  0.1953125,\n",
       "        0.140625 ,  0.8671875,  0.3671875,  0.375    ,  0.3671875,\n",
       "        0.1328125,  0.8359375,  0.1015625,  0.3046875,  0.0625   ,\n",
       "        0.1796875,  0.2421875,  0.25     ,  0.1953125,  0.0859375,\n",
       "        0.2578125,  0.0703125,  0.0703125,  0.75     ,  0.546875 ,\n",
       "        0.1015625,  0.0703125,  0.5859375,  0.3359375,  0.7109375,\n",
       "        0.4453125,  0.0390625,  0.0703125,  0.7421875,  0.0859375,\n",
       "        0.0703125,  0.1015625,  0.5625   ,  0.046875 , -0.0234375,\n",
       "        0.0703125,  0.3359375,  0.65625  ,  0.75     ,  0.25     ,\n",
       "        0.5390625,  0.0703125,  0.625    ,  0.0546875,  0.03125  ,\n",
       "        0.078125 ,  0.5703125,  0.0703125,  0.0390625,  0.6640625,\n",
       "        0.2734375,  0.7578125,  0.1015625,  0.640625 ,  0.6328125,\n",
       "        0.1015625, -0.0078125,  0.2578125,  0.6640625,  0.4140625,\n",
       "        0.234375 ,  0.0703125,  0.3046875,  0.8671875,  0.515625 ,\n",
       "        0.65625  ,  0.1171875,  0.0859375,  0.7734375,  0.0234375,\n",
       "        0.1015625,  0.1015625,  0.5546875,  0.7421875,  0.2109375,\n",
       "        0.2578125,  1.0234375,  0.375    ,  0.1171875,  0.4765625,\n",
       "        0.6328125,  0.5625   ,  0.6328125,  0.15625  ,  0.2265625,\n",
       "        0.2421875,  0.0859375,  0.5546875,  0.390625 ,  0.1484375,\n",
       "        0.125    ,  0.8984375, -0.0078125,  0.078125 ,  0.0703125,\n",
       "        0.40625  ,  0.6328125,  0.0703125,  0.0703125, -0.5078125,\n",
       "        0.1171875,  0.6328125,  0.0859375,  0.1171875,  0.359375 ,\n",
       "        0.59375  ,  1.1171875,  0.3515625,  0.3203125,  0.1015625,\n",
       "        0.2890625,  0.3984375,  0.6953125,  0.1015625,  0.3828125,\n",
       "        0.1171875, -0.0703125,  0.7734375,  0.1953125,  0.046875 ,\n",
       "       -0.0234375,  0.2421875,  0.2734375,  0.8125   ,  0.7265625,\n",
       "        0.4296875,  0.6640625,  0.265625 ,  0.1015625,  0.0546875,\n",
       "        0.65625  ,  0.2265625,  0.6484375,  0.8828125,  0.8671875,\n",
       "        0.8828125,  0.1171875,  0.1171875,  0.5859375,  0.6796875,\n",
       "        0.078125 , -0.5078125,  0.0546875,  0.0703125,  0.109375 ,\n",
       "        0.625    ,  0.1328125,  0.1328125,  0.6328125,  0.4296875,\n",
       "        0.0859375,  0.6484375,  0.1015625,  0.1953125,  0.1796875,\n",
       "        1.09375  ,  0.546875 ,  0.2265625,  1.0078125,  0.1953125,\n",
       "        0.1171875,  0.203125 ,  0.0078125,  0.0703125,  0.390625 ,\n",
       "        0.1015625,  0.2265625,  0.1015625,  0.2265625,  0.3984375,\n",
       "        0.8671875,  0.0703125,  0.1015625,  0.40625  ,  0.2109375,\n",
       "        0.5390625,  0.21875  ,  0.8359375,  0.2265625,  0.1796875,\n",
       "        0.6640625,  0.6640625,  0.1953125,  0.1015625,  0.1171875,\n",
       "        0.3359375,  0.5546875,  0.7265625,  0.4765625,  0.1875   ,\n",
       "        0.0703125,  0.40625  ,  0.2109375,  0.140625 ,  0.5546875,\n",
       "        0.6328125,  0.8671875,  0.890625 ,  1.078125 ,  0.6953125,\n",
       "        0.1171875,  0.296875 ,  0.5      ,  0.3359375,  0.5859375,\n",
       "        0.171875 , -0.1015625,  0.1484375,  0.8671875,  0.8359375,\n",
       "        0.3203125,  0.0859375,  0.7265625,  0.4375   ,  0.5859375,\n",
       "        0.9296875,  0.4921875,  0.1796875,  0.390625 ,  0.5390625,\n",
       "        0.0078125,  0.078125 ,  0.1171875,  0.1015625,  0.4140625,\n",
       "        0.1015625,  0.0703125,  0.1015625,  0.1484375,  0.6171875,\n",
       "        0.8359375,  1.0390625,  0.3671875,  0.5546875,  0.0859375,\n",
       "        0.3671875,  0.1328125,  0.9609375,  0.3203125,  1.0546875,\n",
       "        0.5859375,  0.109375 ,  0.1015625,  0.921875 ,  0.0703125,\n",
       "        0.8515625,  0.8828125,  0.984375 ,  0.3046875,  1.0703125,\n",
       "        0.8828125,  0.9453125,  0.6953125,  0.078125 ,  0.171875 ,\n",
       "        0.5546875,  0.7578125,  0.1171875,  0.8984375,  1.0859375,\n",
       "        0.1015625,  0.0859375,  0.7109375,  0.7109375, -0.5078125,\n",
       "        0.8671875, -0.03125  ,  0.796875 ,  0.5546875,  1.0625   ,\n",
       "        0.5859375,  0.2734375,  0.453125 ,  0.1015625,  0.9140625,\n",
       "        0.0703125,  0.3984375,  1.0703125,  0.0234375,  0.2734375,\n",
       "        0.890625 ,  0.734375 ,  0.1953125,  0.2109375,  0.171875 ,\n",
       "        0.8515625,  0.6328125,  0.6171875,  0.5859375,  0.03125  ,\n",
       "        0.09375  ,  0.3203125,  0.5859375,  0.15625  ,  0.1171875,\n",
       "        0.078125 ,  1.1328125,  0.6328125,  0.5859375,  0.5859375,\n",
       "       -0.09375  ,  0.3125   ,  0.640625 ,  0.0546875,  0.1875   ,\n",
       "        0.0703125,  0.9765625,  0.5859375,  0.5859375,  0.953125 ,\n",
       "        0.6796875,  0.171875 ,  0.1015625,  0.4453125,  0.5390625,\n",
       "        0.9296875,  0.5625   ,  0.5078125,  0.1484375,  0.1015625,\n",
       "        0.90625  ,  0.78125  ,  0.0625   ,  0.8515625,  0.0703125,\n",
       "        0.2578125,  0.2265625,  0.6484375,  0.1171875,  0.75     ,\n",
       "        0.375    ,  0.1015625,  0.0625   ,  1.125    ,  0.4609375,\n",
       "        0.1015625,  0.5390625,  0.1484375,  0.2109375,  0.6640625,\n",
       "        0.0390625,  0.0859375,  0.6328125,  0.1484375,  0.5703125,\n",
       "        0.2421875,  0.0078125,  0.7109375,  0.1015625,  0.3984375,\n",
       "        0.0703125,  0.1171875,  0.9296875,  0.1796875,  0.0234375,\n",
       "        0.5390625,  0.671875 ,  0.7421875,  0.1953125,  0.7109375,\n",
       "        0.1171875,  0.1484375,  0.0703125,  0.5625   ,  0.125    ,\n",
       "        0.0703125,  0.7421875,  0.703125 ,  0.1171875,  0.2734375,\n",
       "        0.3203125,  0.6171875,  0.6953125,  0.1171875,  0.5546875,\n",
       "        0.9765625,  0.4609375,  0.515625 ,  0.1796875,  0.1875   ,\n",
       "        0.6328125,  0.1015625,  0.1484375,  0.6640625,  0.0703125,\n",
       "        0.984375 ,  0.8671875,  0.3046875,  0.65625  ,  0.25     ,\n",
       "        0.140625 ,  0.140625 ,  0.3671875,  0.3984375,  0.0703125,\n",
       "        0.1171875,  0.4140625,  1.0234375,  0.6015625,  0.1171875,\n",
       "        0.46875  ,  0.0546875,  0.4765625,  0.1328125,  0.0703125,\n",
       "        0.0390625,  0.1796875,  0.234375 ,  0.1171875,  0.671875 ,\n",
       "        0.0703125,  0.0390625,  0.6171875,  0.8828125,  0.5703125,\n",
       "        0.4296875,  0.2421875,  0.1328125,  0.1015625,  0.7734375,\n",
       "        0.203125 ,  0.1796875,  0.0078125,  0.4296875,  0.546875 ,\n",
       "        0.3984375,  0.875    ,  0.34375  ,  0.0703125,  0.5625   ,\n",
       "        0.140625 ,  0.1015625,  0.2421875,  0.2421875,  0.1015625,\n",
       "        0.1171875,  1.0078125,  0.0703125,  0.8359375,  0.0859375,\n",
       "        0.1171875,  0.6171875,  0.5859375,  0.5234375,  0.9296875,\n",
       "        0.515625 ,  0.6953125,  0.3203125,  0.0859375,  0.1015625,\n",
       "        0.125    ,  0.0703125,  0.5078125,  0.84375  ,  0.0859375,\n",
       "        0.4140625,  0.8203125,  0.1328125,  0.71875  ,  0.0625   ,\n",
       "        0.8984375,  0.1015625,  0.1171875,  0.9765625,  0.1171875,\n",
       "        0.0859375,  0.6015625,  0.4140625,  0.0390625,  0.1484375,\n",
       "        0.8203125,  0.1171875,  0.1640625,  0.640625 ,  0.5390625,\n",
       "        0.8359375,  0.3359375,  0.8828125,  0.0703125,  0.984375 ,\n",
       "        0.90625  ,  0.3984375,  0.3828125,  0.2578125,  0.4140625,\n",
       "        0.2109375,  0.7734375,  0.2421875,  0.078125 ,  0.703125 ,\n",
       "        0.4921875,  0.2109375,  0.1171875,  0.140625 ,  0.5625   ,\n",
       "        0.2109375,  0.953125 ,  0.46875  ,  1.0078125,  0.59375  ,\n",
       "        0.1171875,  0.0390625,  0.1953125,  0.0703125,  0.5390625,\n",
       "        0.078125 ,  0.1015625,  0.4921875,  0.1171875,  0.0625   ,\n",
       "        0.0859375,  0.71875  ,  0.5078125,  0.5859375,  0.1171875,\n",
       "        0.109375 ,  0.6484375,  1.0546875,  0.6640625,  0.0625   ,\n",
       "        0.703125 ,  0.8671875,  0.1171875,  0.453125 ,  0.1171875,\n",
       "        1.109375 ,  0.1328125,  0.375    ,  0.1015625,  0.0703125,\n",
       "        0.0546875,  1.0078125,  0.015625 ,  0.6328125,  0.2421875,\n",
       "        0.0625   ,  0.671875 ,  0.0078125,  0.1171875,  0.484375 ,\n",
       "        0.625    ,  0.0703125,  0.3203125,  0.0234375,  0.3515625,\n",
       "        0.1171875,  0.0703125,  0.3359375,  0.7109375,  0.828125 ,\n",
       "        0.3203125,  0.0703125,  0.6640625,  0.1171875,  0.0546875,\n",
       "        0.6640625,  0.0703125,  0.625    ,  0.9140625,  0.203125 ,\n",
       "        0.1953125,  0.515625 ,  0.1640625,  0.1015625,  0.1015625,\n",
       "        0.3671875,  0.1484375,  1.       ,  0.0859375,  0.1171875,\n",
       "        0.2578125,  0.0078125,  0.4296875,  0.3046875,  0.46875  ,\n",
       "        0.6640625,  0.0625   ,  0.2109375,  0.40625  ,  0.140625 ,\n",
       "        0.1015625,  0.953125 ,  0.4921875,  0.09375  ,  0.671875 ,\n",
       "        0.5546875,  0.1015625,  0.3828125,  0.0703125,  0.5625   ,\n",
       "        0.0703125,  0.8046875,  0.1015625,  0.5859375,  0.6328125,\n",
       "        0.2265625,  0.0703125,  0.6015625,  0.2109375,  0.5078125,\n",
       "        0.296875 ,  0.0859375,  0.4765625,  0.0546875,  0.1640625,\n",
       "        0.203125 ,  0.203125 ,  0.0703125,  0.0234375,  0.8671875,\n",
       "        0.65625  ,  0.4609375,  0.0625   ,  0.1875   ,  0.1796875,\n",
       "        0.109375 ,  0.0859375,  0.5859375,  0.2734375,  0.7578125,\n",
       "        0.5859375,  0.5546875,  0.1015625,  0.1875   ,  0.1171875,\n",
       "        0.234375 ,  0.3125   ,  0.1015625,  0.109375 ,  1.1484375,\n",
       "        0.4609375,  0.8203125,  0.09375  ,  0.1328125,  0.21875  ,\n",
       "        0.1171875,  0.0234375,  0.5859375,  0.359375 ,  0.1953125,\n",
       "        1.046875 ,  0.5078125,  0.7265625,  0.1328125,  0.1484375,\n",
       "        0.171875 ,  0.6171875,  0.4921875,  0.8828125,  0.1328125,\n",
       "        0.8671875,  0.3203125,  0.3359375,  0.0703125,  0.1171875,\n",
       "        0.2734375,  0.921875 ,  0.8828125,  0.125    ,  0.0546875,\n",
       "        0.8984375,  0.171875 ,  0.1796875,  0.125    ,  0.6171875,\n",
       "        0.1015625,  0.578125 ,  0.5859375,  0.28125  ,  0.625    ,\n",
       "        0.96875  ,  0.5859375,  0.1796875,  0.2109375,  0.2109375,\n",
       "        0.078125 ,  0.3984375,  0.6640625,  0.0703125,  0.0703125,\n",
       "        0.4765625,  0.390625 ,  0.9453125,  0.15625  ,  0.0703125,\n",
       "        0.296875 ,  0.1328125,  0.6640625,  0.5859375,  0.1171875,\n",
       "        0.8203125,  0.8671875,  0.0546875,  0.09375  ,  0.5859375,\n",
       "        0.71875  ,  0.078125 ,  0.2265625,  0.0546875,  0.8828125,\n",
       "        0.0703125,  0.0390625,  0.1484375,  0.8515625,  0.1171875,\n",
       "        0.9609375,  0.3671875,  0.5859375,  0.1875   ,  0.0625   ,\n",
       "        0.0859375,  0.0078125,  0.78125  ,  0.1171875,  0.5      ,\n",
       "        0.109375 ,  0.2890625,  0.6640625,  0.1171875,  1.0078125,\n",
       "        0.6953125,  0.984375 ,  0.4765625,  0.03125  ,  0.0859375,\n",
       "        0.0859375,  0.578125 ,  0.3828125,  0.5390625,  0.40625  ,\n",
       "        0.1171875,  0.2421875, -0.0234375,  0.3671875,  0.0859375,\n",
       "        0.1640625,  0.8828125,  0.5390625,  0.1171875,  0.5625   ,\n",
       "        0.1796875,  0.6796875,  0.8671875,  0.7109375,  0.0859375,\n",
       "        0.0703125,  0.3828125,  0.578125 ,  0.1640625,  1.0703125,\n",
       "        0.0859375,  0.0546875,  0.1796875,  0.3984375,  0.0703125,\n",
       "        0.375    ,  0.5625   ,  0.25     ,  0.0234375,  0.3515625,\n",
       "        0.8359375,  0.0859375,  0.2734375,  0.859375 ,  0.3515625,\n",
       "        0.1171875,  0.09375  ,  0.796875 ,  0.1171875,  0.7890625,\n",
       "        0.7578125,  0.71875  ,  0.1171875,  0.09375  ,  0.109375 ,\n",
       "        1.0625   ,  0.1015625,  0.0703125,  0.0859375,  0.3671875,\n",
       "        0.1015625,  0.234375 ,  0.8359375,  0.1015625,  0.1171875,\n",
       "        0.03125  , -0.5078125,  0.1015625,  0.296875 ,  0.9375   ,\n",
       "        0.2890625, -0.0703125,  0.7265625,  1.0859375,  0.6953125,\n",
       "        0.6796875,  0.828125 ,  0.4609375,  0.6015625,  0.1171875,\n",
       "        0.0234375,  0.2890625,  0.8828125, -0.0234375,  0.2109375,\n",
       "        0.625    ,  0.7890625,  0.4296875,  0.0703125,  0.578125 ,\n",
       "        0.0859375,  0.9140625,  0.3671875,  0.015625 ,  0.7890625,\n",
       "        0.6796875,  0.1015625,  0.1015625,  0.0703125,  0.8828125,\n",
       "        0.78125  ,  0.0546875,  0.5703125,  0.1953125,  0.0859375,\n",
       "        0.453125 ,  0.203125 ,  0.90625  ,  0.5078125,  0.3828125,\n",
       "        0.1171875])"
      ]
     },
     "execution_count": 30,
     "metadata": {},
     "output_type": "execute_result"
    }
   ],
   "source": [
    "y_hat"
   ]
  },
  {
   "cell_type": "code",
   "execution_count": 31,
   "metadata": {
    "tags": []
   },
   "outputs": [
    {
     "data": {
      "text/plain": [
       "(891,)"
      ]
     },
     "execution_count": 31,
     "metadata": {},
     "output_type": "execute_result"
    }
   ],
   "source": [
    "y_hat.shape"
   ]
  },
  {
   "cell_type": "code",
   "execution_count": 22,
   "metadata": {
    "tags": []
   },
   "outputs": [
    {
     "data": {
      "text/plain": [
       "0.13413746295419474"
      ]
     },
     "execution_count": 22,
     "metadata": {},
     "output_type": "execute_result"
    }
   ],
   "source": [
    "np.mean((y_hat - y.values)**2)"
   ]
  },
  {
   "cell_type": "markdown",
   "metadata": {},
   "source": [
    "## 08"
   ]
  },
  {
   "cell_type": "markdown",
   "metadata": {},
   "source": [
    "### Codificação de variáveis\n",
    "\n",
    "Efetuar toda e qualquer transformação necessãria para o funcionamento do modelo, seja ela codificação de variáveis qualitativas (nominais ou ordinais), temporais ou textuais."
   ]
  },
  {
   "cell_type": "code",
   "execution_count": null,
   "metadata": {},
   "outputs": [],
   "source": []
  }
 ],
 "metadata": {
  "kernelspec": {
   "display_name": "Python 3 (ipykernel)",
   "language": "python",
   "name": "python3"
  },
  "language_info": {
   "codemirror_mode": {
    "name": "ipython",
    "version": 3
   },
   "file_extension": ".py",
   "mimetype": "text/x-python",
   "name": "python",
   "nbconvert_exporter": "python",
   "pygments_lexer": "ipython3",
   "version": "3.10.11"
  }
 },
 "nbformat": 4,
 "nbformat_minor": 4
}
